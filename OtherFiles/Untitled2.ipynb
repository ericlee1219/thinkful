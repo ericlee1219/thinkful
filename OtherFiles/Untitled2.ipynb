{
 "cells": [
  {
   "cell_type": "code",
   "execution_count": 1,
   "metadata": {
    "collapsed": false
   },
   "outputs": [
    {
     "name": "stdout",
     "output_type": "stream",
     "text": [
      "hello\n"
     ]
    }
   ],
   "source": [
    "print \"hello\""
   ]
  },
  {
   "cell_type": "code",
   "execution_count": null,
   "metadata": {
    "collapsed": false
   },
   "outputs": [],
   "source": [
    "import pandas as pd\n",
    "import numpy as np\n",
    "import matplotlib.pyplot as plt\n",
    "import seaborn as sns\n",
    "%matplotlib inline\n",
    "\n",
    "forest_fires = pd.read_csv(\"forestfires.csv\")\n",
    "print forest_fires.head(5)"
   ]
  },
  {
   "cell_type": "code",
   "execution_count": null,
   "metadata": {
    "collapsed": true
   },
   "outputs": [],
   "source": [
    "#We've used the pivot_table() method to create the area_by_y and area_by_x dataframes. \n",
    "#Each dataframe contains the average area of the fires started at each X or Y position in forest_fires. \n",
    "#By plotting this out, we'll be able to see which areas in the park are the most flammable.\n",
    "\n",
    "#Because the x-axis has to contain numeric values, we'll use the index property of area_by_y and area_by_x. \n",
    "#This is because the X and Y columns are numeric, so the index values will also be numeric.\n",
    "\n",
    "area_by_y = forest_fires.pivot_table(index = \"Y\", values = \"area\", aggfunc = np.mean)\n",
    "area_by_x = forest_fires.pivot_table(index = \"X\", values = \"area\", aggfunc = np.mean)\n",
    "plt.bar(area_by_y.index, area_by_y)\n",
    "plt.show()"
   ]
  },
  {
   "cell_type": "code",
   "execution_count": null,
   "metadata": {
    "collapsed": true
   },
   "outputs": [],
   "source": []
  }
 ],
 "metadata": {
  "kernelspec": {
   "display_name": "Python 2",
   "language": "python",
   "name": "python2"
  },
  "language_info": {
   "codemirror_mode": {
    "name": "ipython",
    "version": 2
   },
   "file_extension": ".py",
   "mimetype": "text/x-python",
   "name": "python",
   "nbconvert_exporter": "python",
   "pygments_lexer": "ipython2",
   "version": "2.7.11"
  }
 },
 "nbformat": 4,
 "nbformat_minor": 0
}
