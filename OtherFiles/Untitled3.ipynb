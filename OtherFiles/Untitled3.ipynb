{
 "cells": [
  {
   "cell_type": "code",
   "execution_count": 1,
   "metadata": {
    "collapsed": false
   },
   "outputs": [
    {
     "name": "stdout",
     "output_type": "stream",
     "text": [
      "   X  Y month  day  FFMC   DMC     DC  ISI  temp  RH  wind  rain  area\n",
      "0  7  5   mar  fri  86.2  26.2   94.3  5.1   8.2  51   6.7   0.0   0.0\n",
      "1  7  4   oct  tue  90.6  35.4  669.1  6.7  18.0  33   0.9   0.0   0.0\n",
      "2  7  4   oct  sat  90.6  43.7  686.9  6.7  14.6  33   1.3   0.0   0.0\n",
      "3  8  6   mar  fri  91.7  33.3   77.5  9.0   8.3  97   4.0   0.2   0.0\n",
      "4  8  6   mar  sun  89.3  51.3  102.2  9.6  11.4  99   1.8   0.0   0.0\n",
      "0       0.00\n",
      "1       0.00\n",
      "2       0.00\n",
      "3       0.00\n",
      "4       0.00\n",
      "5       0.00\n",
      "6       0.00\n",
      "7       0.00\n",
      "8       0.00\n",
      "9       0.00\n",
      "10      0.00\n",
      "11      0.00\n",
      "12      0.00\n",
      "13      0.00\n",
      "14      0.00\n",
      "15      0.00\n",
      "16      0.00\n",
      "17      0.00\n",
      "18      0.00\n",
      "19      0.00\n",
      "20      0.00\n",
      "21      0.00\n",
      "22      0.00\n",
      "23      0.00\n",
      "24      0.00\n",
      "25      0.00\n",
      "26      0.00\n",
      "27      0.00\n",
      "28      0.00\n",
      "29      0.00\n",
      "       ...  \n",
      "487    16.40\n",
      "488    46.70\n",
      "489     0.00\n",
      "490     0.00\n",
      "491     0.00\n",
      "492     0.00\n",
      "493    43.32\n",
      "494     8.59\n",
      "495     0.00\n",
      "496     2.77\n",
      "497    14.68\n",
      "498    40.54\n",
      "499    10.82\n",
      "500     0.00\n",
      "501     0.00\n",
      "502     0.00\n",
      "503     1.95\n",
      "504    49.59\n",
      "505     5.80\n",
      "506     0.00\n",
      "507     0.00\n",
      "508     0.00\n",
      "509     2.17\n",
      "510     0.43\n",
      "511     0.00\n",
      "512     6.44\n",
      "513    54.29\n",
      "514    11.16\n",
      "515     0.00\n",
      "516     0.00\n",
      "Name: area, dtype: float64\n"
     ]
    }
   ],
   "source": [
    "import pandas as pd\n",
    "import numpy as np\n",
    "import matplotlib.pyplot as plt\n",
    "import seaborn as sns\n",
    "\n",
    "forest_fires = pd.read_csv(\"forestfires.csv\")\n",
    "print forest_fires.head(5)\n",
    "\n",
    "wind = forest_fires[\"wind\"]\n",
    "area = forest_fires[\"area\"]\n",
    "temp = forest_fires[\"temp\"]\n",
    "\n",
    "plt.scatter(height, weight)"
   ]
  },
  {
   "cell_type": "code",
   "execution_count": null,
   "metadata": {
    "collapsed": true
   },
   "outputs": [],
   "source": [
    "age = [5, 10, 15, 20, 25, 30]\n",
    "height = [25, 45, 65, 75, 75, 75]\n",
    "\n",
    "plt.plot(age, height)\n",
    "plt.show()"
   ]
  },
  {
   "cell_type": "code",
   "execution_count": null,
   "metadata": {
    "collapsed": true
   },
   "outputs": [],
   "source": []
  }
 ],
 "metadata": {
  "kernelspec": {
   "display_name": "Python 2",
   "language": "python",
   "name": "python2"
  },
  "language_info": {
   "codemirror_mode": {
    "name": "ipython",
    "version": 2
   },
   "file_extension": ".py",
   "mimetype": "text/x-python",
   "name": "python",
   "nbconvert_exporter": "python",
   "pygments_lexer": "ipython2",
   "version": "2.7.11"
  }
 },
 "nbformat": 4,
 "nbformat_minor": 0
}
