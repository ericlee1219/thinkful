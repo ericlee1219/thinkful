{
 "cells": [
  {
   "cell_type": "markdown",
   "metadata": {},
   "source": [
    "#Read police_killings.csv into a Pandas Dataframe called police_killings.\n",
    "#You'll need to specify the encoding keyword argument as ISO-8859-1 when using the read_csv() Pandas function.\n",
    "#Print out and look at the columns in the data.\n",
    "#Print out the first few rows of the data and spend some time looking over everything.\n",
    "#After doing this, you should have an idea of the structure of the data, and how you might go about working with it."
   ]
  },
  {
   "cell_type": "code",
   "execution_count": 22,
   "metadata": {
    "collapsed": true
   },
   "outputs": [],
   "source": [
    "import pandas as pd\n",
    "import numpy as np\n",
    "import matplotlib.pyplot as plt\n",
    "import seaborn as sns\n",
    "%matplotlib inline"
   ]
  },
  {
   "cell_type": "code",
   "execution_count": 6,
   "metadata": {
    "collapsed": false
   },
   "outputs": [
    {
     "data": {
      "text/html": [
       "<div>\n",
       "<table border=\"1\" class=\"dataframe\">\n",
       "  <thead>\n",
       "    <tr style=\"text-align: right;\">\n",
       "      <th></th>\n",
       "      <th>name</th>\n",
       "      <th>age</th>\n",
       "      <th>gender</th>\n",
       "      <th>raceethnicity</th>\n",
       "      <th>month</th>\n",
       "      <th>day</th>\n",
       "      <th>year</th>\n",
       "      <th>streetaddress</th>\n",
       "      <th>city</th>\n",
       "      <th>state</th>\n",
       "      <th>...</th>\n",
       "      <th>share_hispanic</th>\n",
       "      <th>p_income</th>\n",
       "      <th>h_income</th>\n",
       "      <th>county_income</th>\n",
       "      <th>comp_income</th>\n",
       "      <th>county_bucket</th>\n",
       "      <th>nat_bucket</th>\n",
       "      <th>pov</th>\n",
       "      <th>urate</th>\n",
       "      <th>college</th>\n",
       "    </tr>\n",
       "  </thead>\n",
       "  <tbody>\n",
       "    <tr>\n",
       "      <th>0</th>\n",
       "      <td>A'donte Washington</td>\n",
       "      <td>16</td>\n",
       "      <td>Male</td>\n",
       "      <td>Black</td>\n",
       "      <td>February</td>\n",
       "      <td>23</td>\n",
       "      <td>2015</td>\n",
       "      <td>Clearview Ln</td>\n",
       "      <td>Millbrook</td>\n",
       "      <td>AL</td>\n",
       "      <td>...</td>\n",
       "      <td>5.6</td>\n",
       "      <td>28375</td>\n",
       "      <td>51367.0</td>\n",
       "      <td>54766</td>\n",
       "      <td>0.937936</td>\n",
       "      <td>3.0</td>\n",
       "      <td>3.0</td>\n",
       "      <td>14.1</td>\n",
       "      <td>0.097686</td>\n",
       "      <td>0.168510</td>\n",
       "    </tr>\n",
       "    <tr>\n",
       "      <th>1</th>\n",
       "      <td>Aaron Rutledge</td>\n",
       "      <td>27</td>\n",
       "      <td>Male</td>\n",
       "      <td>White</td>\n",
       "      <td>April</td>\n",
       "      <td>2</td>\n",
       "      <td>2015</td>\n",
       "      <td>300 block Iris Park Dr</td>\n",
       "      <td>Pineville</td>\n",
       "      <td>LA</td>\n",
       "      <td>...</td>\n",
       "      <td>0.5</td>\n",
       "      <td>14678</td>\n",
       "      <td>27972.0</td>\n",
       "      <td>40930</td>\n",
       "      <td>0.683411</td>\n",
       "      <td>2.0</td>\n",
       "      <td>1.0</td>\n",
       "      <td>28.8</td>\n",
       "      <td>0.065724</td>\n",
       "      <td>0.111402</td>\n",
       "    </tr>\n",
       "    <tr>\n",
       "      <th>2</th>\n",
       "      <td>Aaron Siler</td>\n",
       "      <td>26</td>\n",
       "      <td>Male</td>\n",
       "      <td>White</td>\n",
       "      <td>March</td>\n",
       "      <td>14</td>\n",
       "      <td>2015</td>\n",
       "      <td>22nd Ave and 56th St</td>\n",
       "      <td>Kenosha</td>\n",
       "      <td>WI</td>\n",
       "      <td>...</td>\n",
       "      <td>16.8</td>\n",
       "      <td>25286</td>\n",
       "      <td>45365.0</td>\n",
       "      <td>54930</td>\n",
       "      <td>0.825869</td>\n",
       "      <td>2.0</td>\n",
       "      <td>3.0</td>\n",
       "      <td>14.6</td>\n",
       "      <td>0.166293</td>\n",
       "      <td>0.147312</td>\n",
       "    </tr>\n",
       "    <tr>\n",
       "      <th>3</th>\n",
       "      <td>Aaron Valdez</td>\n",
       "      <td>25</td>\n",
       "      <td>Male</td>\n",
       "      <td>Hispanic/Latino</td>\n",
       "      <td>March</td>\n",
       "      <td>11</td>\n",
       "      <td>2015</td>\n",
       "      <td>3000 Seminole Ave</td>\n",
       "      <td>South Gate</td>\n",
       "      <td>CA</td>\n",
       "      <td>...</td>\n",
       "      <td>98.8</td>\n",
       "      <td>17194</td>\n",
       "      <td>48295.0</td>\n",
       "      <td>55909</td>\n",
       "      <td>0.863814</td>\n",
       "      <td>3.0</td>\n",
       "      <td>3.0</td>\n",
       "      <td>11.7</td>\n",
       "      <td>0.124827</td>\n",
       "      <td>0.050133</td>\n",
       "    </tr>\n",
       "    <tr>\n",
       "      <th>4</th>\n",
       "      <td>Adam Jovicic</td>\n",
       "      <td>29</td>\n",
       "      <td>Male</td>\n",
       "      <td>White</td>\n",
       "      <td>March</td>\n",
       "      <td>19</td>\n",
       "      <td>2015</td>\n",
       "      <td>364 Hiwood Ave</td>\n",
       "      <td>Munroe Falls</td>\n",
       "      <td>OH</td>\n",
       "      <td>...</td>\n",
       "      <td>1.7</td>\n",
       "      <td>33954</td>\n",
       "      <td>68785.0</td>\n",
       "      <td>49669</td>\n",
       "      <td>1.384868</td>\n",
       "      <td>5.0</td>\n",
       "      <td>4.0</td>\n",
       "      <td>1.9</td>\n",
       "      <td>0.063550</td>\n",
       "      <td>0.403954</td>\n",
       "    </tr>\n",
       "  </tbody>\n",
       "</table>\n",
       "<p>5 rows × 34 columns</p>\n",
       "</div>"
      ],
      "text/plain": [
       "                 name age gender    raceethnicity     month  day  year  \\\n",
       "0  A'donte Washington  16   Male            Black  February   23  2015   \n",
       "1      Aaron Rutledge  27   Male            White     April    2  2015   \n",
       "2         Aaron Siler  26   Male            White     March   14  2015   \n",
       "3        Aaron Valdez  25   Male  Hispanic/Latino     March   11  2015   \n",
       "4        Adam Jovicic  29   Male            White     March   19  2015   \n",
       "\n",
       "            streetaddress          city state    ...     share_hispanic  \\\n",
       "0            Clearview Ln     Millbrook    AL    ...                5.6   \n",
       "1  300 block Iris Park Dr     Pineville    LA    ...                0.5   \n",
       "2    22nd Ave and 56th St       Kenosha    WI    ...               16.8   \n",
       "3       3000 Seminole Ave    South Gate    CA    ...               98.8   \n",
       "4          364 Hiwood Ave  Munroe Falls    OH    ...                1.7   \n",
       "\n",
       "   p_income  h_income  county_income  comp_income  county_bucket  nat_bucket  \\\n",
       "0     28375   51367.0          54766     0.937936            3.0         3.0   \n",
       "1     14678   27972.0          40930     0.683411            2.0         1.0   \n",
       "2     25286   45365.0          54930     0.825869            2.0         3.0   \n",
       "3     17194   48295.0          55909     0.863814            3.0         3.0   \n",
       "4     33954   68785.0          49669     1.384868            5.0         4.0   \n",
       "\n",
       "    pov     urate   college  \n",
       "0  14.1  0.097686  0.168510  \n",
       "1  28.8  0.065724  0.111402  \n",
       "2  14.6  0.166293  0.147312  \n",
       "3  11.7  0.124827  0.050133  \n",
       "4   1.9  0.063550  0.403954  \n",
       "\n",
       "[5 rows x 34 columns]"
      ]
     },
     "execution_count": 6,
     "metadata": {},
     "output_type": "execute_result"
    }
   ],
   "source": [
    "police = pd.read_csv(\"police_killings.csv\", encoding = \"ISO-8859-1\")\n",
    "police.head()"
   ]
  },
  {
   "cell_type": "code",
   "execution_count": 28,
   "metadata": {
    "collapsed": false,
    "scrolled": true
   },
   "outputs": [
    {
     "data": {
      "image/png": "[encoded data removed]",
      "text/plain": [
       "<matplotlib.figure.Figure at 0x11a010e90>"
      ]
     },
     "metadata": {},
     "output_type": "display_data"
    }
   ],
   "source": [
    "race_ethnicity = police[\"raceethnicity\"].value_counts()\n",
    "race_ethnicity\n",
    "\n",
    "sns.set_style(\"whitegrid\")\n",
    "ax = sns.barplot(x=race_ethnicity.index, y=race_ethnicity)"
   ]
  },
  {
   "cell_type": "code",
   "execution_count": null,
   "metadata": {
    "collapsed": true
   },
   "outputs": [],
   "source": []
  },
  {
   "cell_type": "markdown",
   "metadata": {},
   "source": [
    "#Shootings by race\n",
    "#You can use the value_counts() method on a Series to count up how many times each unique value occurs in a column. \n",
    "#If you run value_counts() on the raceethnicity column, you can discover how many people of each race were killed.\n",
    "\n",
    "#Instructions\n",
    "#Use the value_counts() method on the raceethnicity column.\n",
    "#Make a bar graph of the results.\n",
    "#Make sure to initialize matplotlib in the notebook with %matplotlib inline first! Also make sure you import matplotlib.\n",
    "#You can use the xticks() function to set x axis labels.\n",
    "#Write about how the pattern looks in a Markdown cell. Does anything here surprise you? \n",
    "#How might you go about digging deeper and seeing if there's a consistent pattern?\n",
    "#In particular, you might want to look up the percentage of each race in the US population as a whole. \n",
    "#How do those percentages match up to the chart you just made?"
   ]
  },
  {
   "cell_type": "code",
   "execution_count": 21,
   "metadata": {
    "collapsed": false
   },
   "outputs": [
    {
     "data": {
      "text/plain": [
       "name                                 Adrian Hernandez\n",
       "age                                                22\n",
       "gender                                           Male\n",
       "raceethnicity                         Hispanic/Latino\n",
       "month                                           March\n",
       "day                                                27\n",
       "year                                             2015\n",
       "streetaddress                          4000 Union Ave\n",
       "city                                      Bakersfield\n",
       "state                                              CA\n",
       "latitude                                      35.3957\n",
       "longitude                                    -119.003\n",
       "state_fp                                            6\n",
       "county_fp                                          29\n",
       "tract_ce                                          700\n",
       "geo_id                                     6029000700\n",
       "county_id                                        6029\n",
       "namelsad                               Census Tract 7\n",
       "lawenforcementagency    Bakersfield Police Department\n",
       "cause                                         Gunshot\n",
       "armed                                         Firearm\n",
       "pop                                              5027\n",
       "share_white                                      50.8\n",
       "share_black                                       0.3\n",
       "share_hispanic                                   44.2\n",
       "p_income                                        25949\n",
       "h_income                                        58068\n",
       "county_income                                   48552\n",
       "comp_income                                     1.196\n",
       "county_bucket                                       4\n",
       "nat_bucket                                          4\n",
       "pov                                              17.2\n",
       "urate                                        0.131461\n",
       "college                                      0.203801\n",
       "Name: Adrian Hernandez, dtype: object"
      ]
     },
     "execution_count": 21,
     "metadata": {},
     "output_type": "execute_result"
    }
   ],
   "source": [
    "police_test.loc[\"Adrian Hernandez\"]"
   ]
  },
  {
   "cell_type": "markdown",
   "metadata": {},
   "source": [
    "The p_income column is median personal income by census area. Looking at this will tell us if more of the shootings happened in less affluent areas or more affluent areas.\n",
    "\n",
    "You can explore this relationship by making a histogram of the column. You'll need to do some data cleaning in order to construct the histogram, though, as not all the values in the p_income column are numeric. When an income couldn't be found for the census area, the value is a -. Because of this, the column has a string type instead of an integer type.\n",
    "\n",
    "To fix this, and be able to construct a histogram, you'll need to remove all the - values from the column, then convert the column to an integer type.\n",
    "\n",
    "\n",
    "Instructions\n",
    "Create a new Pandas Series called income that contains all the values from the p_income column, except the dashes (-).\n",
    "Convert income to an integer type using the astype() method.\n",
    "Use the hist() method on income to generate a histogram.\n",
    "You can experiment with the bins keyword argument to change the number of bins in the histogram. More will give you a more granular look.\n",
    "Review the histogram. How does this compare to the median US personal income? You might want to look up some data. Write up your findings, and what you think this histogram indicates.\n",
    "There are a few different definitions of personal income. Which one did the FiveThirtyEight team use when they constructed the dataset? You can read more here. Comparing to a differently calculated personal income number can lead to faulty conclusions!"
   ]
  },
  {
   "cell_type": "code",
   "execution_count": null,
   "metadata": {
    "collapsed": true
   },
   "outputs": [],
   "source": []
  },
  {
   "cell_type": "markdown",
   "metadata": {},
   "source": [
    "Since you have geographic data, you can look at breakdowns of shootings by region. You don't have a ton of data, so going for the largest possible regions (states) makes sense. If you looked at counties, you likely would get mostly 0 or 1 shootings per county, which wouldn't let you establish any patterns.\n",
    "\n",
    "There is one caveat to be aware of when looking at population-level data. Finding that more people were shot in Texas than Georgia doesn't automatically mean that cops are more likely to shoot people in Texas. This is because Texas has a higher population than Georgia. To truly figure out which states tend to have police more likely to shoot people, you need to look at a population adjusted rate. You can compute this by dividing the number of people shot in each state by the state population.\n",
    "\n",
    "To accomplish this, we'll need to leverage external data. We can find state-level data on population here. Here are the relevant columns in the dataset:\n",
    "\n",
    "POPESTIMATE2015 -- the estimated 2015 population of the state.\n",
    "NAME -- the name of the state, as a string (such as Texas).\n",
    "STATE -- the numeric Census code of the state.\n",
    "There's a problem here, though. In the police_killings Dataframe, the state column gives you a state name abbreviation, like CA. You can't use this to match the population with the right state in police_killings, because the population dataset only has complete state names. Instead, we'll use the state_fp column in police_killings to match. state_fp contains Census codes, which correspond to the STATE column in the population dataset.\n",
    "\n",
    "We can use the merge() method on Dataframes to merge a Dataframe with another Dataframe that shares a common column.\n",
    "\n",
    "\n",
    "Instructions\n",
    "Read in state_population.csv as a Dataframe and assign to the state_pop variable.\n",
    "Use the value_counts() method on the state_fp column of police_killings. Assign the result to counts.\n",
    "This will result in a Pandas Series, where the index is the code for each state, and the values are the numbers of police killings in each state.\n",
    "You'll want to eventually merge state_pop and counts. You can use the merge() method on Dataframes for this. We'll need to do some preliminaries before we can use it, though.\n",
    "You'll first need to make a new Dataframe to hold the data from counts. The index will also need to be its own column.\n",
    "Create a new Dataframe called states. One column should be called STATE, and will contain the index of counts. The other column should be called shootings, and will contains the values from counts. You can do this with this code: states = pd.DataFrame({\"STATE\": counts.index, \"shootings\": counts}).\n",
    "\n",
    "Use the merge() method to merge state_pop and states.\n",
    "Pass the on keyword argument, with the value set to STATE. STATE is the common column that both states and state_pop share.\n",
    "After merging, assign the result back to states.\n",
    "Create a new column in states called pop_millions. Assign the result of dividing the POPESTIMATE2015 column by 1000000 to this column. This will give you the population in terms of millions.\n",
    "Create a new column in states called rate. Assign the result of dividing the shootings column by pop_millions to the rate column. This will give you the rate of police killings per one million people in each state.\n",
    "Print out the dataset, and look at the rates by state.\n",
    "It may be useful to try the sort() method on Dataframes to sort states in ascending and descending order to see the states with the most and least police killings per million people.\n",
    "Write up your findings. Which states have the most and least police killings per million people? Why do you think this is?"
   ]
  },
  {
   "cell_type": "code",
   "execution_count": null,
   "metadata": {
    "collapsed": true
   },
   "outputs": [],
   "source": []
  },
  {
   "cell_type": "markdown",
   "metadata": {},
   "source": [
    "Why do some states have a much higher rate of police killings than others? Is it due to random chance, or is there an underlying factor that could explain it? It will be good to dive more into the data to find any significant differences.\n",
    "\n",
    "You'll first need to split police_killings into two parts. One part will have the 10 states with the lowest shooting rate, and the other will have the 10 states with the highest shooting rate. You can use the isin() method to perform this split. You can first make a list of 10 abbreviations corresponding to the lowest shooting rate states. Then, use isin() to only select rows from police_killings where the state column is in the list.\n",
    "\n",
    "You'll then be able to look at a few columns that could reveal interesting differences:\n",
    "\n",
    "pop -- population of the census area where the incident occurred.\n",
    "county_income -- median household income in the county.\n",
    "share_white -- the percentage (out of 100) of whites in the census area.\n",
    "share_black -- the percentage (out of 100) of blacks in the census area.\n",
    "share_hispanic -- the percentage (out of 100) of hispanics in the census area.\n",
    "You can use the describe() method on Dataframes to compute summary statistics for each column in each Dataframe. This will reveal differences between the states with high and low shooting rates.\n",
    "\n",
    "\n",
    "Instructions\n",
    "Create a new Dataframe called pk where all rows with - values for share_white, share_black, or share_hispanic are removed.\n",
    "Convert share_white, share_black, and share_hispanic in pk to the float type using the astype() method.\n",
    "Create a Dataframe containing only rows from pk that took place in one of the 10 states with the lowest shooting rates.\n",
    "Create a Dataframe containing only rows from pk that took place in one of the 10 states with the highest shooting rates.\n",
    "Compare the mean value of each column mentioned above across both Dataframes. You can use the mean() method for this.\n",
    "Do you see any interesting patterns? Write up your results.\n",
    "Were there any problems with this analysis?\n",
    "We removed all rows with a - in them for the share columns. What was removed? Did this bias the results?\n",
    "We're actually looking at columns that contain county-level data for where the shooting occurred. So we're not actually doing a state by state comparison of the columns. This may bias the data, and change what we found. Would the analysis be stronger if we got state-level data for instead of averaging the county-level data in the columns? Why or why not?"
   ]
  }
 ],
 "metadata": {
  "kernelspec": {
   "display_name": "Python 2",
   "language": "python",
   "name": "python2"
  },
  "language_info": {
   "codemirror_mode": {
    "name": "ipython",
    "version": 2
   },
   "file_extension": ".py",
   "mimetype": "text/x-python",
   "name": "python",
   "nbconvert_exporter": "python",
   "pygments_lexer": "ipython2",
   "version": "2.7.11"
  }
 },
 "nbformat": 4,
 "nbformat_minor": 0
}
